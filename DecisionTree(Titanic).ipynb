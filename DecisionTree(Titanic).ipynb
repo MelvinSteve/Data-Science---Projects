{
  "nbformat": 4,
  "nbformat_minor": 0,
  "metadata": {
    "colab": {
      "provenance": []
    },
    "kernelspec": {
      "name": "python3",
      "display_name": "Python 3"
    },
    "language_info": {
      "name": "python"
    }
  },
  "cells": [
    {
      "cell_type": "code",
      "execution_count": 2,
      "metadata": {
        "id": "uxYCF2TG-mOV"
      },
      "outputs": [],
      "source": [
        "import numpy as np\n",
        "import pandas as pd\n",
        "import matplotlib.pyplot as plt"
      ]
    },
    {
      "cell_type": "code",
      "source": [
        "dataset=pd.read_csv('/content/titanic.csv')\n"
      ],
      "metadata": {
        "id": "aMEBgiyzD7Ll"
      },
      "execution_count": 3,
      "outputs": []
    },
    {
      "cell_type": "code",
      "source": [
        "dataset_=dataset.drop(dataset.columns[[0,3,6,7,8,10,11]],axis=1)\n",
        "print(dataset_)"
      ],
      "metadata": {
        "colab": {
          "base_uri": "https://localhost:8080/"
        },
        "id": "T7iPwzjlEMqd",
        "outputId": "7b78fdb2-a7d0-4929-9f59-15463d009a19"
      },
      "execution_count": 5,
      "outputs": [
        {
          "output_type": "stream",
          "name": "stdout",
          "text": [
            "     Survived  Pclass     Sex   Age     Fare\n",
            "0           0       3    male  22.0   7.2500\n",
            "1           1       1  female  38.0  71.2833\n",
            "2           1       3  female  26.0   7.9250\n",
            "3           1       1  female  35.0  53.1000\n",
            "4           0       3    male  35.0   8.0500\n",
            "..        ...     ...     ...   ...      ...\n",
            "886         0       2    male  27.0  13.0000\n",
            "887         1       1  female  19.0  30.0000\n",
            "888         0       3  female   NaN  23.4500\n",
            "889         1       1    male  26.0  30.0000\n",
            "890         0       3    male  32.0   7.7500\n",
            "\n",
            "[891 rows x 5 columns]\n"
          ]
        }
      ]
    },
    {
      "cell_type": "code",
      "source": [
        "import math\n",
        "mean=math.floor(dataset_[\"Age\"].mean())\n",
        "dataset_[\"Age\"]=dataset_[\"Age\"].fillna(mean)\n",
        "print(dataset_)"
      ],
      "metadata": {
        "colab": {
          "base_uri": "https://localhost:8080/"
        },
        "id": "QwllWdDQEhAE",
        "outputId": "b080f0fa-2c8d-4014-aa1d-d1ff95ffaf81"
      },
      "execution_count": 8,
      "outputs": [
        {
          "output_type": "stream",
          "name": "stdout",
          "text": [
            "     Survived  Pclass     Sex   Age     Fare\n",
            "0           0       3    male  22.0   7.2500\n",
            "1           1       1  female  38.0  71.2833\n",
            "2           1       3  female  26.0   7.9250\n",
            "3           1       1  female  35.0  53.1000\n",
            "4           0       3    male  35.0   8.0500\n",
            "..        ...     ...     ...   ...      ...\n",
            "886         0       2    male  27.0  13.0000\n",
            "887         1       1  female  19.0  30.0000\n",
            "888         0       3  female  29.0  23.4500\n",
            "889         1       1    male  26.0  30.0000\n",
            "890         0       3    male  32.0   7.7500\n",
            "\n",
            "[891 rows x 5 columns]\n"
          ]
        }
      ]
    },
    {
      "cell_type": "code",
      "source": [
        "from sklearn.preprocessing import LabelEncoder\n",
        "\n",
        "laben=LabelEncoder()\n",
        "dataset_[\"Sex\"]=laben.fit_transform(dataset_[\"Sex\"])\n",
        "print(dataset_)"
      ],
      "metadata": {
        "colab": {
          "base_uri": "https://localhost:8080/"
        },
        "id": "KpiIGQnEE3G1",
        "outputId": "fb189516-ba74-45b6-a42c-e5b0f1a388c8"
      },
      "execution_count": 10,
      "outputs": [
        {
          "output_type": "stream",
          "name": "stdout",
          "text": [
            "     Survived  Pclass  Sex   Age     Fare\n",
            "0           0       3    1  22.0   7.2500\n",
            "1           1       1    0  38.0  71.2833\n",
            "2           1       3    0  26.0   7.9250\n",
            "3           1       1    0  35.0  53.1000\n",
            "4           0       3    1  35.0   8.0500\n",
            "..        ...     ...  ...   ...      ...\n",
            "886         0       2    1  27.0  13.0000\n",
            "887         1       1    0  19.0  30.0000\n",
            "888         0       3    0  29.0  23.4500\n",
            "889         1       1    1  26.0  30.0000\n",
            "890         0       3    1  32.0   7.7500\n",
            "\n",
            "[891 rows x 5 columns]\n"
          ]
        }
      ]
    },
    {
      "cell_type": "code",
      "source": [
        "x=dataset_.iloc[:,0].values\n",
        "y=dataset_.iloc[:,1:].values"
      ],
      "metadata": {
        "id": "mvfnUDQdFM1z"
      },
      "execution_count": 13,
      "outputs": []
    },
    {
      "cell_type": "code",
      "source": [
        "from sklearn.model_selection import train_test_split\n",
        "x_train,x_test,y_train,y_test=train_test_split(y,x,test_size=0.2)"
      ],
      "metadata": {
        "id": "QdspLhMsGjYz"
      },
      "execution_count": 16,
      "outputs": []
    },
    {
      "cell_type": "code",
      "source": [
        "from sklearn import tree\n",
        "\n",
        "model=tree.DecisionTreeClassifier()\n",
        "model.fit(x_train,y_train)"
      ],
      "metadata": {
        "colab": {
          "base_uri": "https://localhost:8080/"
        },
        "id": "b3SlyyECFWpD",
        "outputId": "c4e489d2-0250-48e9-cb8d-5f868759d3fd"
      },
      "execution_count": 17,
      "outputs": [
        {
          "output_type": "execute_result",
          "data": {
            "text/plain": [
              "DecisionTreeClassifier()"
            ]
          },
          "metadata": {},
          "execution_count": 17
        }
      ]
    },
    {
      "cell_type": "code",
      "source": [
        "model.score(x_test,y_test)"
      ],
      "metadata": {
        "colab": {
          "base_uri": "https://localhost:8080/"
        },
        "id": "ziTxNIebG_v7",
        "outputId": "01156040-154c-4301-e3a3-a64016ba096f"
      },
      "execution_count": 18,
      "outputs": [
        {
          "output_type": "execute_result",
          "data": {
            "text/plain": [
              "0.770949720670391"
            ]
          },
          "metadata": {},
          "execution_count": 18
        }
      ]
    },
    {
      "cell_type": "code",
      "source": [
        "model.predict([[1,0,19,30]])"
      ],
      "metadata": {
        "colab": {
          "base_uri": "https://localhost:8080/"
        },
        "id": "jwpeSt4wHRkL",
        "outputId": "0bcb10e1-9823-495e-80f7-9131601af530"
      },
      "execution_count": 22,
      "outputs": [
        {
          "output_type": "execute_result",
          "data": {
            "text/plain": [
              "array([1])"
            ]
          },
          "metadata": {},
          "execution_count": 22
        }
      ]
    }
  ]
}